{
 "cells": [
  {
   "cell_type": "code",
   "execution_count": 1,
   "outputs": [],
   "source": [
    "%matplotlib inline\n",
    "from typing import Union\n",
    "import pandas as pd\n",
    "import matplotlib.pyplot as plt\n",
    "import re"
   ],
   "metadata": {
    "collapsed": false,
    "pycharm": {
     "name": "#%%\n"
    }
   }
  },
  {
   "cell_type": "code",
   "execution_count": 8,
   "outputs": [],
   "source": [
    "def extract_metro(m: str) -> str:\n",
    "    return m.split(' (')[0].replace('м. ', '')\n",
    "\n",
    "def extract_minutes(m: str) -> Union[int, None]:\n",
    "    match = re.search(r'[0-9]{1,2}', m)\n",
    "    if match is None:\n",
    "        return None\n",
    "    return int(match.group(0))\n",
    "\n",
    "def extract_by_foot(m: str) -> bool:\n",
    "    match = re.search(r'пешком', m)\n",
    "    if match is None:\n",
    "        return False\n",
    "    return True\n",
    "\n",
    "df = pd.read_excel('../../data/offers_filtered.xlsx', index_col='ID')\n",
    "df['metro'] = df['Метро'].apply(extract_metro)\n",
    "df['m_to_metro'] = df['Метро'].apply(extract_minutes)\n",
    "df['by_foot'] = df['Метро'].apply(extract_by_foot)"
   ],
   "metadata": {
    "collapsed": false,
    "pycharm": {
     "name": "#%%\n"
    }
   }
  },
  {
   "cell_type": "code",
   "execution_count": 9,
   "outputs": [],
   "source": [
    "def extract_area(index: int):\n",
    "    def extract(m: str) -> float:\n",
    "        split = m.split('/')\n",
    "        return float(split[index])\n",
    "\n",
    "    return extract\n",
    "\n",
    "df['total_area'] = df['Площадь, м2'].apply(extract_area(0))\n",
    "df['living_area'] = df['Площадь, м2'].apply(extract_area(1))\n",
    "df['kitchen_area'] = df['Площадь, м2'].apply(extract_area(2))"
   ],
   "metadata": {
    "collapsed": false,
    "pycharm": {
     "name": "#%%\n"
    }
   }
  },
  {
   "cell_type": "code",
   "execution_count": 10,
   "outputs": [],
   "source": [
    "df = df.dropna(subset=['Ремонт'])\n",
    "\n",
    "df['is_cosmetic'] = df['Ремонт'].apply(lambda x: x.strip() == 'Косметический')"
   ],
   "metadata": {
    "collapsed": false,
    "pycharm": {
     "name": "#%%\n"
    }
   }
  },
  {
   "cell_type": "code",
   "execution_count": 11,
   "outputs": [],
   "source": [
    "def extract_floor(index: int):\n",
    "    def extract(m: str) -> int:\n",
    "        match = re.sub(r'((?![0-9/]).)*', '', m)\n",
    "        return int(match.split('/')[index])\n",
    "\n",
    "    return extract\n",
    "\n",
    "df['floor'] = df['Дом'].apply(extract_floor(0))\n",
    "df['max_floor'] = df['Дом'].apply(extract_floor(1))"
   ],
   "metadata": {
    "collapsed": false,
    "pycharm": {
     "name": "#%%\n"
    }
   }
  },
  {
   "cell_type": "code",
   "execution_count": 12,
   "outputs": [],
   "source": [
    "def extract_price(index: int):\n",
    "    def extract(m: str) -> float:\n",
    "        matches = re.findall(r\"[0-9]+\", m, re.MULTILINE)\n",
    "        matches = [match for match in matches if float(match) > 1]\n",
    "        if len(matches) < index + 1:\n",
    "            return float(matches[0])\n",
    "        return float(matches[index])\n",
    "\n",
    "    return extract\n",
    "\n",
    "df['price'] = df['Цена'].apply(extract_price(0))"
   ],
   "metadata": {
    "collapsed": false,
    "pycharm": {
     "name": "#%%\n"
    }
   }
  },
  {
   "cell_type": "code",
   "execution_count": 13,
   "outputs": [],
   "source": [
    "result = df[['metro', 'm_to_metro', 'by_foot', 'total_area', 'living_area', 'kitchen_area', 'is_cosmetic', 'floor', 'max_floor', 'price']]"
   ],
   "metadata": {
    "collapsed": false,
    "pycharm": {
     "name": "#%%\n"
    }
   }
  },
  {
   "cell_type": "code",
   "execution_count": 14,
   "outputs": [],
   "source": [
    "result = result.where(result['by_foot'] > 0).dropna()\n",
    "filtered = result.where(result['is_cosmetic'] > 0).dropna()"
   ],
   "metadata": {
    "collapsed": false,
    "pycharm": {
     "name": "#%%\n"
    }
   }
  },
  {
   "cell_type": "code",
   "execution_count": 15,
   "outputs": [
    {
     "data": {
      "text/plain": "25"
     },
     "execution_count": 15,
     "metadata": {},
     "output_type": "execute_result"
    }
   ],
   "source": [
    "len(filtered)"
   ],
   "metadata": {
    "collapsed": false,
    "pycharm": {
     "name": "#%%\n"
    }
   }
  },
  {
   "cell_type": "code",
   "execution_count": 16,
   "outputs": [
    {
     "data": {
      "text/plain": "array([[<AxesSubplot:title={'center':'price'}>]], dtype=object)"
     },
     "execution_count": 16,
     "metadata": {},
     "output_type": "execute_result"
    },
    {
     "data": {
      "text/plain": "<Figure size 432x288 with 1 Axes>",
      "image/png": "[encoded data removed]"
     },
     "metadata": {
      "needs_background": "light"
     },
     "output_type": "display_data"
    }
   ],
   "source": [
    "filtered.hist(column='price')\n"
   ],
   "metadata": {
    "collapsed": false,
    "pycharm": {
     "name": "#%%\n"
    }
   }
  },
  {
   "cell_type": "code",
   "execution_count": 19,
   "outputs": [],
   "source": [
    "final_df = filtered[['metro', 'm_to_metro', 'total_area', 'living_area', 'kitchen_area', 'is_cosmetic', 'floor', 'max_floor', 'price']]\n",
    "final_df.to_excel('../../data/sale/sale.xlsx')"
   ],
   "metadata": {
    "collapsed": false,
    "pycharm": {
     "name": "#%%\n"
    }
   }
  }
 ],
 "metadata": {
  "kernelspec": {
   "display_name": "Python 3",
   "language": "python",
   "name": "python3"
  },
  "language_info": {
   "codemirror_mode": {
    "name": "ipython",
    "version": 2
   },
   "file_extension": ".py",
   "mimetype": "text/x-python",
   "name": "python",
   "nbconvert_exporter": "python",
   "pygments_lexer": "ipython2",
   "version": "2.7.6"
  }
 },
 "nbformat": 4,
 "nbformat_minor": 0
}