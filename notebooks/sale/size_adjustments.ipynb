{
 "cells": [
  {
   "cell_type": "code",
   "execution_count": 6,
   "outputs": [],
   "source": [
    "%matplotlib inline\n",
    "import pandas as pd\n",
    "import statsmodels.formula.api as sm"
   ],
   "metadata": {
    "collapsed": false,
    "pycharm": {
     "name": "#%%\n"
    }
   }
  },
  {
   "cell_type": "code",
   "execution_count": 7,
   "outputs": [],
   "source": [
    "rent_df = pd.read_excel('../../data/sale/sale.xlsx')"
   ],
   "metadata": {
    "collapsed": false,
    "pycharm": {
     "name": "#%%\n"
    }
   }
  },
  {
   "cell_type": "code",
   "execution_count": 8,
   "outputs": [
    {
     "data": {
      "text/plain": "<class 'statsmodels.iolib.summary.Summary'>\n\"\"\"\n                            OLS Regression Results                            \n==============================================================================\nDep. Variable:                  price   R-squared:                       0.059\nModel:                            OLS   Adj. R-squared:                  0.019\nMethod:                 Least Squares   F-statistic:                     1.453\nDate:                Thu, 19 Nov 2020   Prob (F-statistic):              0.240\nTime:                        22:54:54   Log-Likelihood:                -379.33\nNo. Observations:                  25   AIC:                             762.7\nDf Residuals:                      23   BIC:                             765.1\nDf Model:                           1                                         \nCovariance Type:            nonrobust                                         \n==============================================================================\n                 coef    std err          t      P>|t|      [0.025      0.975]\n------------------------------------------------------------------------------\nIntercept   2.709e+06   5.51e+06      0.492      0.627   -8.68e+06    1.41e+07\ntotal_area  1.756e+05   1.46e+05      1.205      0.240   -1.26e+05    4.77e+05\n==============================================================================\nOmnibus:                        2.306   Durbin-Watson:                   1.475\nProb(Omnibus):                  0.316   Jarque-Bera (JB):                0.950\nSkew:                           0.198   Prob(JB):                        0.622\nKurtosis:                       3.868   Cond. No.                     1.06e+03\n==============================================================================\n\nNotes:\n[1] Standard Errors assume that the covariance matrix of the errors is correctly specified.\n[2] The condition number is large, 1.06e+03. This might indicate that there are\nstrong multicollinearity or other numerical problems.\n\"\"\"",
      "text/html": "<table class=\"simpletable\">\n<caption>OLS Regression Results</caption>\n<tr>\n  <th>Dep. Variable:</th>          <td>price</td>      <th>  R-squared:         </th> <td>   0.059</td>\n</tr>\n<tr>\n  <th>Model:</th>                   <td>OLS</td>       <th>  Adj. R-squared:    </th> <td>   0.019</td>\n</tr>\n<tr>\n  <th>Method:</th>             <td>Least Squares</td>  <th>  F-statistic:       </th> <td>   1.453</td>\n</tr>\n<tr>\n  <th>Date:</th>             <td>Thu, 19 Nov 2020</td> <th>  Prob (F-statistic):</th>  <td> 0.240</td> \n</tr>\n<tr>\n  <th>Time:</th>                 <td>22:54:54</td>     <th>  Log-Likelihood:    </th> <td> -379.33</td>\n</tr>\n<tr>\n  <th>No. Observations:</th>      <td>    25</td>      <th>  AIC:               </th> <td>   762.7</td>\n</tr>\n<tr>\n  <th>Df Residuals:</th>          <td>    23</td>      <th>  BIC:               </th> <td>   765.1</td>\n</tr>\n<tr>\n  <th>Df Model:</th>              <td>     1</td>      <th>                     </th>     <td> </td>   \n</tr>\n<tr>\n  <th>Covariance Type:</th>      <td>nonrobust</td>    <th>                     </th>     <td> </td>   \n</tr>\n</table>\n<table class=\"simpletable\">\n<tr>\n       <td></td>         <th>coef</th>     <th>std err</th>      <th>t</th>      <th>P>|t|</th>  <th>[0.025</th>    <th>0.975]</th>  \n</tr>\n<tr>\n  <th>Intercept</th>  <td> 2.709e+06</td> <td> 5.51e+06</td> <td>    0.492</td> <td> 0.627</td> <td>-8.68e+06</td> <td> 1.41e+07</td>\n</tr>\n<tr>\n  <th>total_area</th> <td> 1.756e+05</td> <td> 1.46e+05</td> <td>    1.205</td> <td> 0.240</td> <td>-1.26e+05</td> <td> 4.77e+05</td>\n</tr>\n</table>\n<table class=\"simpletable\">\n<tr>\n  <th>Omnibus:</th>       <td> 2.306</td> <th>  Durbin-Watson:     </th> <td>   1.475</td>\n</tr>\n<tr>\n  <th>Prob(Omnibus):</th> <td> 0.316</td> <th>  Jarque-Bera (JB):  </th> <td>   0.950</td>\n</tr>\n<tr>\n  <th>Skew:</th>          <td> 0.198</td> <th>  Prob(JB):          </th> <td>   0.622</td>\n</tr>\n<tr>\n  <th>Kurtosis:</th>      <td> 3.868</td> <th>  Cond. No.          </th> <td>1.06e+03</td>\n</tr>\n</table><br/><br/>Notes:<br/>[1] Standard Errors assume that the covariance matrix of the errors is correctly specified.<br/>[2] The condition number is large, 1.06e+03. This might indicate that there are<br/>strong multicollinearity or other numerical problems."
     },
     "execution_count": 8,
     "metadata": {},
     "output_type": "execute_result"
    }
   ],
   "source": [
    "only_cosmetic_reg = sm.ols(formula=\"price ~ total_area\", data=rent_df).fit()\n",
    "only_cosmetic_reg.summary()"
   ],
   "metadata": {
    "collapsed": false,
    "pycharm": {
     "name": "#%%\n"
    }
   }
  },
  {
   "cell_type": "code",
   "execution_count": 9,
   "outputs": [],
   "source": [
    "new_df = rent_df.append(dict(total_area=37.8), ignore_index=True)\n",
    "new_df['pred_price'] = only_cosmetic_reg.predict(new_df)"
   ],
   "metadata": {
    "collapsed": false,
    "pycharm": {
     "name": "#%%\n"
    }
   }
  },
  {
   "cell_type": "code",
   "execution_count": 10,
   "outputs": [],
   "source": [
    "subject = new_df.iloc[25]['pred_price']"
   ],
   "metadata": {
    "collapsed": false,
    "pycharm": {
     "name": "#%%\n"
    }
   }
  },
  {
   "cell_type": "code",
   "execution_count": 11,
   "outputs": [],
   "source": [
    "new_df['size_adjustment'] = 1 - subject / new_df['pred_price']"
   ],
   "metadata": {
    "collapsed": false,
    "pycharm": {
     "name": "#%%\n"
    }
   }
  },
  {
   "cell_type": "code",
   "execution_count": 12,
   "outputs": [],
   "source": [
    "new_df.to_excel('../../data/sale/size_adjustment.xlsx')"
   ],
   "metadata": {
    "collapsed": false,
    "pycharm": {
     "name": "#%%\n"
    }
   }
  }
 ],
 "metadata": {
  "kernelspec": {
   "display_name": "Python 3",
   "language": "python",
   "name": "python3"
  },
  "language_info": {
   "codemirror_mode": {
    "name": "ipython",
    "version": 2
   },
   "file_extension": ".py",
   "mimetype": "text/x-python",
   "name": "python",
   "nbconvert_exporter": "python",
   "pygments_lexer": "ipython2",
   "version": "2.7.6"
  }
 },
 "nbformat": 4,
 "nbformat_minor": 0
}