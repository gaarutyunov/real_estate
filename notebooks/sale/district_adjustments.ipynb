{
 "cells": [
  {
   "cell_type": "code",
   "execution_count": 1,
   "metadata": {
    "collapsed": true
   },
   "outputs": [],
   "source": [
    "%matplotlib inline\n",
    "import pandas as pd\n",
    "import matplotlib.pyplot as plt\n",
    "import re"
   ]
  },
  {
   "cell_type": "code",
   "execution_count": 2,
   "outputs": [],
   "source": [
    "rent_df = pd.read_excel('../../data/sale/sale.xlsx')\n",
    "index_df = pd.read_excel('../../data/price_index.xlsx')"
   ],
   "metadata": {
    "collapsed": false,
    "pycharm": {
     "name": "#%%\n"
    }
   }
  },
  {
   "cell_type": "code",
   "execution_count": 3,
   "outputs": [],
   "source": [
    "index_df = index_df.replace({'\\xa0': ' '}, regex=True)\n",
    "index_df = index_df[['районы', 'метро']]"
   ],
   "metadata": {
    "collapsed": false,
    "pycharm": {
     "name": "#%%\n"
    }
   }
  },
  {
   "cell_type": "code",
   "execution_count": 4,
   "outputs": [],
   "source": [
    "index_df = index_df.dropna()\n",
    "reverse_index = dict()\n",
    "\n",
    "for idx, series in index_df.iterrows():\n",
    "    metros = series['метро'].split(', ')\n",
    "    for metro in metros:\n",
    "        reverse_index[metro] = series['районы']\n",
    "\n",
    "reverse_index['Красный Балтиец'] = reverse_index['Сокол']\n",
    "reverse_index['Бескудниково'] = reverse_index['Савеловская']\n",
    "reverse_index['Петровский Парк'] = reverse_index['Динамо']\n",
    "reverse_index['Гражданская'] = reverse_index['Динамо']\n",
    "reverse_index['Дегунино'] = reverse_index['Ховрино']\n",
    "reverse_index['Марк'] = reverse_index['Алтуфьево']"
   ],
   "metadata": {
    "collapsed": false,
    "pycharm": {
     "name": "#%%\n"
    }
   }
  },
  {
   "cell_type": "code",
   "execution_count": 5,
   "outputs": [],
   "source": [
    "def extract_district(m: str) -> str:\n",
    "    return reverse_index[m]\n",
    "\n",
    "rent_df['district'] = rent_df['metro'].apply(extract_district)"
   ],
   "metadata": {
    "collapsed": false,
    "pycharm": {
     "name": "#%%\n"
    }
   }
  },
  {
   "cell_type": "code",
   "execution_count": 6,
   "outputs": [],
   "source": [
    "mean_rent = rent_df.groupby(by=['district'])['price'].mean()"
   ],
   "metadata": {
    "collapsed": false,
    "pycharm": {
     "name": "#%%\n"
    }
   }
  },
  {
   "cell_type": "code",
   "execution_count": 7,
   "outputs": [],
   "source": [
    "def assign_mean(m: str):\n",
    "    return mean_rent[m]\n",
    "\n",
    "rent_df['mean_district'] = rent_df['district'].apply(assign_mean)"
   ],
   "metadata": {
    "collapsed": false,
    "pycharm": {
     "name": "#%%\n"
    }
   }
  },
  {
   "cell_type": "code",
   "execution_count": 8,
   "outputs": [],
   "source": [
    "rent_df['district_adjustment'] = mean_rent['Левобережный, Ховрино'] / rent_df['mean_district']"
   ],
   "metadata": {
    "collapsed": false,
    "pycharm": {
     "name": "#%%\n"
    }
   }
  },
  {
   "cell_type": "code",
   "execution_count": 9,
   "outputs": [],
   "source": [
    "mean_ratio = mean_rent['Левобережный, Ховрино'] / mean_rent\n",
    "\n",
    "mean_ratio.to_excel('../../data/sale/mean_ratio.xlsx')\n",
    "\n",
    "rent_df.to_excel('../../data/sale/distr_adjustment.xlsx')"
   ],
   "metadata": {
    "collapsed": false,
    "pycharm": {
     "name": "#%%\n"
    }
   }
  }
 ],
 "metadata": {
  "kernelspec": {
   "display_name": "Python 3",
   "language": "python",
   "name": "python3"
  },
  "language_info": {
   "codemirror_mode": {
    "name": "ipython",
    "version": 2
   },
   "file_extension": ".py",
   "mimetype": "text/x-python",
   "name": "python",
   "nbconvert_exporter": "python",
   "pygments_lexer": "ipython2",
   "version": "2.7.6"
  }
 },
 "nbformat": 4,
 "nbformat_minor": 0
}