{
 "cells": [
  {
   "cell_type": "code",
   "execution_count": 6,
   "metadata": {
    "collapsed": true
   },
   "outputs": [],
   "source": [
    "%matplotlib inline\n",
    "import pandas as pd\n",
    "import statsmodels.formula.api as sm"
   ]
  },
  {
   "cell_type": "code",
   "execution_count": 7,
   "outputs": [],
   "source": [
    "rent_df = pd.read_excel('../../data/sale/sale.xlsx')"
   ],
   "metadata": {
    "collapsed": false,
    "pycharm": {
     "name": "#%%\n"
    }
   }
  },
  {
   "cell_type": "code",
   "execution_count": 8,
   "outputs": [
    {
     "data": {
      "text/plain": "<class 'statsmodels.iolib.summary.Summary'>\n\"\"\"\n                            OLS Regression Results                            \n==============================================================================\nDep. Variable:                  price   R-squared:                       0.404\nModel:                            OLS   Adj. R-squared:                  0.378\nMethod:                 Least Squares   F-statistic:                     15.59\nDate:                Thu, 19 Nov 2020   Prob (F-statistic):           0.000640\nTime:                        22:51:58   Log-Likelihood:                -373.62\nNo. Observations:                  25   AIC:                             751.2\nDf Residuals:                      23   BIC:                             753.7\nDf Model:                           1                                         \nCovariance Type:            nonrobust                                         \n==============================================================================\n                 coef    std err          t      P>|t|      [0.025      0.975]\n------------------------------------------------------------------------------\nIntercept    1.07e+07   3.78e+05     28.321      0.000    9.92e+06    1.15e+07\nm_to_metro -1.183e+05      3e+04     -3.948      0.001    -1.8e+05   -5.63e+04\n==============================================================================\nOmnibus:                        2.417   Durbin-Watson:                   1.672\nProb(Omnibus):                  0.299   Jarque-Bera (JB):                1.409\nSkew:                           0.575   Prob(JB):                        0.494\nKurtosis:                       3.173   Cond. No.                         30.7\n==============================================================================\n\nNotes:\n[1] Standard Errors assume that the covariance matrix of the errors is correctly specified.\n\"\"\"",
      "text/html": "<table class=\"simpletable\">\n<caption>OLS Regression Results</caption>\n<tr>\n  <th>Dep. Variable:</th>          <td>price</td>      <th>  R-squared:         </th> <td>   0.404</td>\n</tr>\n<tr>\n  <th>Model:</th>                   <td>OLS</td>       <th>  Adj. R-squared:    </th> <td>   0.378</td>\n</tr>\n<tr>\n  <th>Method:</th>             <td>Least Squares</td>  <th>  F-statistic:       </th> <td>   15.59</td>\n</tr>\n<tr>\n  <th>Date:</th>             <td>Thu, 19 Nov 2020</td> <th>  Prob (F-statistic):</th> <td>0.000640</td>\n</tr>\n<tr>\n  <th>Time:</th>                 <td>22:51:58</td>     <th>  Log-Likelihood:    </th> <td> -373.62</td>\n</tr>\n<tr>\n  <th>No. Observations:</th>      <td>    25</td>      <th>  AIC:               </th> <td>   751.2</td>\n</tr>\n<tr>\n  <th>Df Residuals:</th>          <td>    23</td>      <th>  BIC:               </th> <td>   753.7</td>\n</tr>\n<tr>\n  <th>Df Model:</th>              <td>     1</td>      <th>                     </th>     <td> </td>   \n</tr>\n<tr>\n  <th>Covariance Type:</th>      <td>nonrobust</td>    <th>                     </th>     <td> </td>   \n</tr>\n</table>\n<table class=\"simpletable\">\n<tr>\n       <td></td>         <th>coef</th>     <th>std err</th>      <th>t</th>      <th>P>|t|</th>  <th>[0.025</th>    <th>0.975]</th>  \n</tr>\n<tr>\n  <th>Intercept</th>  <td>  1.07e+07</td> <td> 3.78e+05</td> <td>   28.321</td> <td> 0.000</td> <td> 9.92e+06</td> <td> 1.15e+07</td>\n</tr>\n<tr>\n  <th>m_to_metro</th> <td>-1.183e+05</td> <td>    3e+04</td> <td>   -3.948</td> <td> 0.001</td> <td> -1.8e+05</td> <td>-5.63e+04</td>\n</tr>\n</table>\n<table class=\"simpletable\">\n<tr>\n  <th>Omnibus:</th>       <td> 2.417</td> <th>  Durbin-Watson:     </th> <td>   1.672</td>\n</tr>\n<tr>\n  <th>Prob(Omnibus):</th> <td> 0.299</td> <th>  Jarque-Bera (JB):  </th> <td>   1.409</td>\n</tr>\n<tr>\n  <th>Skew:</th>          <td> 0.575</td> <th>  Prob(JB):          </th> <td>   0.494</td>\n</tr>\n<tr>\n  <th>Kurtosis:</th>      <td> 3.173</td> <th>  Cond. No.          </th> <td>    30.7</td>\n</tr>\n</table><br/><br/>Notes:<br/>[1] Standard Errors assume that the covariance matrix of the errors is correctly specified."
     },
     "execution_count": 8,
     "metadata": {},
     "output_type": "execute_result"
    }
   ],
   "source": [
    "only_cosmetic_reg = sm.ols(formula=\"price ~ m_to_metro\", data=rent_df).fit()\n",
    "only_cosmetic_reg.summary()"
   ],
   "metadata": {
    "collapsed": false,
    "pycharm": {
     "name": "#%%\n"
    }
   }
  },
  {
   "cell_type": "code",
   "execution_count": 9,
   "outputs": [],
   "source": [
    "new_df = rent_df.append(dict(m_to_metro=15), ignore_index=True)\n",
    "new_df['pred_price'] = only_cosmetic_reg.predict(new_df)"
   ],
   "metadata": {
    "collapsed": false,
    "pycharm": {
     "name": "#%%\n"
    }
   }
  },
  {
   "cell_type": "code",
   "execution_count": 10,
   "outputs": [],
   "source": [
    "subject = new_df.iloc[25]['pred_price']"
   ],
   "metadata": {
    "collapsed": false,
    "pycharm": {
     "name": "#%%\n"
    }
   }
  },
  {
   "cell_type": "code",
   "execution_count": 11,
   "outputs": [],
   "source": [
    "new_df['proximity_adjustment'] = 1 - subject / new_df['pred_price']"
   ],
   "metadata": {
    "collapsed": false,
    "pycharm": {
     "name": "#%%\n"
    }
   }
  },
  {
   "cell_type": "code",
   "execution_count": 12,
   "outputs": [],
   "source": [
    "new_df.to_excel('../../data/sale/prox_adjustment.xlsx')"
   ],
   "metadata": {
    "collapsed": false,
    "pycharm": {
     "name": "#%%\n"
    }
   }
  },
  {
   "cell_type": "code",
   "execution_count": 13,
   "outputs": [
    {
     "data": {
      "text/plain": "8925489.502241088"
     },
     "execution_count": 13,
     "metadata": {},
     "output_type": "execute_result"
    }
   ],
   "source": [
    "new_df.iloc[25]['pred_price']"
   ],
   "metadata": {
    "collapsed": false,
    "pycharm": {
     "name": "#%%\n"
    }
   }
  }
 ],
 "metadata": {
  "kernelspec": {
   "display_name": "Python 3",
   "language": "python",
   "name": "python3"
  },
  "language_info": {
   "codemirror_mode": {
    "name": "ipython",
    "version": 2
   },
   "file_extension": ".py",
   "mimetype": "text/x-python",
   "name": "python",
   "nbconvert_exporter": "python",
   "pygments_lexer": "ipython2",
   "version": "2.7.6"
  }
 },
 "nbformat": 4,
 "nbformat_minor": 0
}