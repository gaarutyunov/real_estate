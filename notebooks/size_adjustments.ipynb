{
 "cells": [
  {
   "cell_type": "code",
   "execution_count": 1,
   "outputs": [],
   "source": [
    "%matplotlib inline\n",
    "import pandas as pd\n",
    "import statsmodels.formula.api as sm"
   ],
   "metadata": {
    "collapsed": false,
    "pycharm": {
     "name": "#%%\n"
    }
   }
  },
  {
   "cell_type": "code",
   "execution_count": 2,
   "outputs": [],
   "source": [
    "rent_df = pd.read_excel('../data/rent.xlsx')"
   ],
   "metadata": {
    "collapsed": false,
    "pycharm": {
     "name": "#%%\n"
    }
   }
  },
  {
   "cell_type": "code",
   "execution_count": 3,
   "outputs": [],
   "source": [
    "new_df = rent_df.where(rent_df['is_cosmetic'] == 1).dropna()"
   ],
   "metadata": {
    "collapsed": false,
    "pycharm": {
     "name": "#%%\n"
    }
   }
  },
  {
   "cell_type": "code",
   "execution_count": 4,
   "outputs": [
    {
     "data": {
      "text/plain": "<class 'statsmodels.iolib.summary.Summary'>\n\"\"\"\n                            OLS Regression Results                            \n==============================================================================\nDep. Variable:                   rent   R-squared:                       0.000\nModel:                            OLS   Adj. R-squared:                 -0.011\nMethod:                 Least Squares   F-statistic:                   0.02167\nDate:                Thu, 19 Nov 2020   Prob (F-statistic):              0.883\nTime:                        07:13:46   Log-Likelihood:                -899.64\nNo. Observations:                  90   AIC:                             1803.\nDf Residuals:                      88   BIC:                             1808.\nDf Model:                           1                                         \nCovariance Type:            nonrobust                                         \n==============================================================================\n                 coef    std err          t      P>|t|      [0.025      0.975]\n------------------------------------------------------------------------------\nIntercept   3.222e+04   1.14e+04      2.836      0.006    9645.354    5.48e+04\ntotal_area    44.6163    303.095      0.147      0.883    -557.722     646.954\n==============================================================================\nOmnibus:                       14.371   Durbin-Watson:                   0.861\nProb(Omnibus):                  0.001   Jarque-Bera (JB):               15.869\nSkew:                           0.910   Prob(JB):                     0.000358\nKurtosis:                       3.959   Cond. No.                         753.\n==============================================================================\n\nNotes:\n[1] Standard Errors assume that the covariance matrix of the errors is correctly specified.\n\"\"\"",
      "text/html": "<table class=\"simpletable\">\n<caption>OLS Regression Results</caption>\n<tr>\n  <th>Dep. Variable:</th>          <td>rent</td>       <th>  R-squared:         </th> <td>   0.000</td>\n</tr>\n<tr>\n  <th>Model:</th>                   <td>OLS</td>       <th>  Adj. R-squared:    </th> <td>  -0.011</td>\n</tr>\n<tr>\n  <th>Method:</th>             <td>Least Squares</td>  <th>  F-statistic:       </th> <td> 0.02167</td>\n</tr>\n<tr>\n  <th>Date:</th>             <td>Thu, 19 Nov 2020</td> <th>  Prob (F-statistic):</th>  <td> 0.883</td> \n</tr>\n<tr>\n  <th>Time:</th>                 <td>07:13:46</td>     <th>  Log-Likelihood:    </th> <td> -899.64</td>\n</tr>\n<tr>\n  <th>No. Observations:</th>      <td>    90</td>      <th>  AIC:               </th> <td>   1803.</td>\n</tr>\n<tr>\n  <th>Df Residuals:</th>          <td>    88</td>      <th>  BIC:               </th> <td>   1808.</td>\n</tr>\n<tr>\n  <th>Df Model:</th>              <td>     1</td>      <th>                     </th>     <td> </td>   \n</tr>\n<tr>\n  <th>Covariance Type:</th>      <td>nonrobust</td>    <th>                     </th>     <td> </td>   \n</tr>\n</table>\n<table class=\"simpletable\">\n<tr>\n       <td></td>         <th>coef</th>     <th>std err</th>      <th>t</th>      <th>P>|t|</th>  <th>[0.025</th>    <th>0.975]</th>  \n</tr>\n<tr>\n  <th>Intercept</th>  <td> 3.222e+04</td> <td> 1.14e+04</td> <td>    2.836</td> <td> 0.006</td> <td> 9645.354</td> <td> 5.48e+04</td>\n</tr>\n<tr>\n  <th>total_area</th> <td>   44.6163</td> <td>  303.095</td> <td>    0.147</td> <td> 0.883</td> <td> -557.722</td> <td>  646.954</td>\n</tr>\n</table>\n<table class=\"simpletable\">\n<tr>\n  <th>Omnibus:</th>       <td>14.371</td> <th>  Durbin-Watson:     </th> <td>   0.861</td>\n</tr>\n<tr>\n  <th>Prob(Omnibus):</th> <td> 0.001</td> <th>  Jarque-Bera (JB):  </th> <td>  15.869</td>\n</tr>\n<tr>\n  <th>Skew:</th>          <td> 0.910</td> <th>  Prob(JB):          </th> <td>0.000358</td>\n</tr>\n<tr>\n  <th>Kurtosis:</th>      <td> 3.959</td> <th>  Cond. No.          </th> <td>    753.</td>\n</tr>\n</table><br/><br/>Notes:<br/>[1] Standard Errors assume that the covariance matrix of the errors is correctly specified."
     },
     "execution_count": 4,
     "metadata": {},
     "output_type": "execute_result"
    }
   ],
   "source": [
    "only_cosmetic_reg = sm.ols(formula=\"rent ~ total_area\", data=new_df).fit()\n",
    "only_cosmetic_reg.summary()"
   ],
   "metadata": {
    "collapsed": false,
    "pycharm": {
     "name": "#%%\n"
    }
   }
  },
  {
   "cell_type": "code",
   "execution_count": 5,
   "outputs": [],
   "source": [
    "new_df = new_df.append(dict(total_area=37.8), ignore_index=True)\n",
    "new_df['pred_rent'] = only_cosmetic_reg.predict(new_df)"
   ],
   "metadata": {
    "collapsed": false,
    "pycharm": {
     "name": "#%%\n"
    }
   }
  },
  {
   "cell_type": "code",
   "execution_count": 6,
   "outputs": [],
   "source": [
    "subject = new_df.iloc[90]['pred_rent']"
   ],
   "metadata": {
    "collapsed": false,
    "pycharm": {
     "name": "#%%\n"
    }
   }
  },
  {
   "cell_type": "code",
   "execution_count": 7,
   "outputs": [],
   "source": [
    "new_df['size_adjustment'] = 1 - subject / new_df['pred_rent']"
   ],
   "metadata": {
    "collapsed": false,
    "pycharm": {
     "name": "#%%\n"
    }
   }
  },
  {
   "cell_type": "code",
   "execution_count": 8,
   "outputs": [],
   "source": [
    "new_df.to_excel('../data/size_adjustment.xlsx')"
   ],
   "metadata": {
    "collapsed": false,
    "pycharm": {
     "name": "#%%\n"
    }
   }
  }
 ],
 "metadata": {
  "kernelspec": {
   "display_name": "Python 3",
   "language": "python",
   "name": "python3"
  },
  "language_info": {
   "codemirror_mode": {
    "name": "ipython",
    "version": 2
   },
   "file_extension": ".py",
   "mimetype": "text/x-python",
   "name": "python",
   "nbconvert_exporter": "python",
   "pygments_lexer": "ipython2",
   "version": "2.7.6"
  }
 },
 "nbformat": 4,
 "nbformat_minor": 0
}