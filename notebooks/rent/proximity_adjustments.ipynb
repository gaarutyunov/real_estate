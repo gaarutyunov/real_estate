{
 "cells": [
  {
   "cell_type": "code",
   "execution_count": 224,
   "metadata": {
    "collapsed": true
   },
   "outputs": [],
   "source": [
    "%matplotlib inline\n",
    "import pandas as pd\n",
    "import statsmodels.formula.api as sm"
   ]
  },
  {
   "cell_type": "code",
   "execution_count": 225,
   "outputs": [],
   "source": [
    "rent_df = pd.read_excel('../../data/rent.xlsx')"
   ],
   "metadata": {
    "collapsed": false,
    "pycharm": {
     "name": "#%%\n"
    }
   }
  },
  {
   "cell_type": "code",
   "execution_count": 226,
   "outputs": [],
   "source": [
    "rent_df['is_euro'] = rent_df['is_cosmetic'] == 0\n",
    "rent_df['is_euro'] = rent_df['is_euro'].astype(int)\n",
    "result = sm.ols(formula=\"rent ~ m_to_metro + is_euro\", data=rent_df).fit()"
   ],
   "metadata": {
    "collapsed": false,
    "pycharm": {
     "name": "#%%\n"
    }
   }
  },
  {
   "cell_type": "code",
   "execution_count": 227,
   "outputs": [
    {
     "data": {
      "text/plain": "<class 'statsmodels.iolib.summary.Summary'>\n\"\"\"\n                            OLS Regression Results                            \n==============================================================================\nDep. Variable:                   rent   R-squared:                       0.368\nModel:                            OLS   Adj. R-squared:                  0.359\nMethod:                 Least Squares   F-statistic:                     38.49\nDate:                Thu, 19 Nov 2020   Prob (F-statistic):           6.76e-14\nTime:                        07:13:00   Log-Likelihood:                -1367.6\nNo. Observations:                 135   AIC:                             2741.\nDf Residuals:                     132   BIC:                             2750.\nDf Model:                           2                                         \nCovariance Type:            nonrobust                                         \n==============================================================================\n                 coef    std err          t      P>|t|      [0.025      0.975]\n------------------------------------------------------------------------------\nIntercept   3.686e+04   1230.419     29.955      0.000    3.44e+04    3.93e+04\nm_to_metro  -281.2514     99.122     -2.837      0.005    -477.324     -85.179\nis_euro     8861.1200   1132.613      7.824      0.000    6620.700    1.11e+04\n==============================================================================\nOmnibus:                       14.076   Durbin-Watson:                   1.150\nProb(Omnibus):                  0.001   Jarque-Bera (JB):               15.867\nSkew:                           0.693   Prob(JB):                     0.000359\nKurtosis:                       3.948   Cond. No.                         30.5\n==============================================================================\n\nNotes:\n[1] Standard Errors assume that the covariance matrix of the errors is correctly specified.\n\"\"\"",
      "text/html": "<table class=\"simpletable\">\n<caption>OLS Regression Results</caption>\n<tr>\n  <th>Dep. Variable:</th>          <td>rent</td>       <th>  R-squared:         </th> <td>   0.368</td>\n</tr>\n<tr>\n  <th>Model:</th>                   <td>OLS</td>       <th>  Adj. R-squared:    </th> <td>   0.359</td>\n</tr>\n<tr>\n  <th>Method:</th>             <td>Least Squares</td>  <th>  F-statistic:       </th> <td>   38.49</td>\n</tr>\n<tr>\n  <th>Date:</th>             <td>Thu, 19 Nov 2020</td> <th>  Prob (F-statistic):</th> <td>6.76e-14</td>\n</tr>\n<tr>\n  <th>Time:</th>                 <td>07:13:00</td>     <th>  Log-Likelihood:    </th> <td> -1367.6</td>\n</tr>\n<tr>\n  <th>No. Observations:</th>      <td>   135</td>      <th>  AIC:               </th> <td>   2741.</td>\n</tr>\n<tr>\n  <th>Df Residuals:</th>          <td>   132</td>      <th>  BIC:               </th> <td>   2750.</td>\n</tr>\n<tr>\n  <th>Df Model:</th>              <td>     2</td>      <th>                     </th>     <td> </td>   \n</tr>\n<tr>\n  <th>Covariance Type:</th>      <td>nonrobust</td>    <th>                     </th>     <td> </td>   \n</tr>\n</table>\n<table class=\"simpletable\">\n<tr>\n       <td></td>         <th>coef</th>     <th>std err</th>      <th>t</th>      <th>P>|t|</th>  <th>[0.025</th>    <th>0.975]</th>  \n</tr>\n<tr>\n  <th>Intercept</th>  <td> 3.686e+04</td> <td> 1230.419</td> <td>   29.955</td> <td> 0.000</td> <td> 3.44e+04</td> <td> 3.93e+04</td>\n</tr>\n<tr>\n  <th>m_to_metro</th> <td> -281.2514</td> <td>   99.122</td> <td>   -2.837</td> <td> 0.005</td> <td> -477.324</td> <td>  -85.179</td>\n</tr>\n<tr>\n  <th>is_euro</th>    <td> 8861.1200</td> <td> 1132.613</td> <td>    7.824</td> <td> 0.000</td> <td> 6620.700</td> <td> 1.11e+04</td>\n</tr>\n</table>\n<table class=\"simpletable\">\n<tr>\n  <th>Omnibus:</th>       <td>14.076</td> <th>  Durbin-Watson:     </th> <td>   1.150</td>\n</tr>\n<tr>\n  <th>Prob(Omnibus):</th> <td> 0.001</td> <th>  Jarque-Bera (JB):  </th> <td>  15.867</td>\n</tr>\n<tr>\n  <th>Skew:</th>          <td> 0.693</td> <th>  Prob(JB):          </th> <td>0.000359</td>\n</tr>\n<tr>\n  <th>Kurtosis:</th>      <td> 3.948</td> <th>  Cond. No.          </th> <td>    30.5</td>\n</tr>\n</table><br/><br/>Notes:<br/>[1] Standard Errors assume that the covariance matrix of the errors is correctly specified."
     },
     "execution_count": 227,
     "metadata": {},
     "output_type": "execute_result"
    }
   ],
   "source": [
    "result.summary()"
   ],
   "metadata": {
    "collapsed": false,
    "pycharm": {
     "name": "#%%\n"
    }
   }
  },
  {
   "cell_type": "code",
   "execution_count": 228,
   "outputs": [],
   "source": [
    "copy = rent_df.copy()\n",
    "copy = copy.append(dict(id=0, is_euro=0, m_to_metro=15), ignore_index=True)\n",
    "\n",
    "copy['rent'] = 0"
   ],
   "metadata": {
    "collapsed": false,
    "pycharm": {
     "name": "#%%\n"
    }
   }
  },
  {
   "cell_type": "code",
   "execution_count": 229,
   "outputs": [],
   "source": [
    "copy['rent'] = result.predict(copy)"
   ],
   "metadata": {
    "collapsed": false,
    "pycharm": {
     "name": "#%%\n"
    }
   }
  },
  {
   "cell_type": "code",
   "execution_count": 230,
   "outputs": [],
   "source": [
    "new_df = rent_df.where(rent_df['is_cosmetic'] == 1).dropna()"
   ],
   "metadata": {
    "collapsed": false,
    "pycharm": {
     "name": "#%%\n"
    }
   }
  },
  {
   "cell_type": "code",
   "execution_count": 231,
   "outputs": [
    {
     "data": {
      "text/plain": "<class 'statsmodels.iolib.summary.Summary'>\n\"\"\"\n                            OLS Regression Results                            \n==============================================================================\nDep. Variable:                   rent   R-squared:                       0.063\nModel:                            OLS   Adj. R-squared:                  0.052\nMethod:                 Least Squares   F-statistic:                     5.909\nDate:                Thu, 19 Nov 2020   Prob (F-statistic):             0.0171\nTime:                        07:13:00   Log-Likelihood:                -896.73\nNo. Observations:                  90   AIC:                             1797.\nDf Residuals:                      88   BIC:                             1802.\nDf Model:                           1                                         \nCovariance Type:            nonrobust                                         \n==============================================================================\n                 coef    std err          t      P>|t|      [0.025      0.975]\n------------------------------------------------------------------------------\nIntercept   3.629e+04   1129.913     32.118      0.000     3.4e+04    3.85e+04\nm_to_metro  -227.5770     93.619     -2.431      0.017    -413.626     -41.528\n==============================================================================\nOmnibus:                       12.634   Durbin-Watson:                   0.942\nProb(Omnibus):                  0.002   Jarque-Bera (JB):               13.398\nSkew:                           0.839   Prob(JB):                      0.00123\nKurtosis:                       3.869   Cond. No.                         25.0\n==============================================================================\n\nNotes:\n[1] Standard Errors assume that the covariance matrix of the errors is correctly specified.\n\"\"\"",
      "text/html": "<table class=\"simpletable\">\n<caption>OLS Regression Results</caption>\n<tr>\n  <th>Dep. Variable:</th>          <td>rent</td>       <th>  R-squared:         </th> <td>   0.063</td>\n</tr>\n<tr>\n  <th>Model:</th>                   <td>OLS</td>       <th>  Adj. R-squared:    </th> <td>   0.052</td>\n</tr>\n<tr>\n  <th>Method:</th>             <td>Least Squares</td>  <th>  F-statistic:       </th> <td>   5.909</td>\n</tr>\n<tr>\n  <th>Date:</th>             <td>Thu, 19 Nov 2020</td> <th>  Prob (F-statistic):</th>  <td>0.0171</td> \n</tr>\n<tr>\n  <th>Time:</th>                 <td>07:13:00</td>     <th>  Log-Likelihood:    </th> <td> -896.73</td>\n</tr>\n<tr>\n  <th>No. Observations:</th>      <td>    90</td>      <th>  AIC:               </th> <td>   1797.</td>\n</tr>\n<tr>\n  <th>Df Residuals:</th>          <td>    88</td>      <th>  BIC:               </th> <td>   1802.</td>\n</tr>\n<tr>\n  <th>Df Model:</th>              <td>     1</td>      <th>                     </th>     <td> </td>   \n</tr>\n<tr>\n  <th>Covariance Type:</th>      <td>nonrobust</td>    <th>                     </th>     <td> </td>   \n</tr>\n</table>\n<table class=\"simpletable\">\n<tr>\n       <td></td>         <th>coef</th>     <th>std err</th>      <th>t</th>      <th>P>|t|</th>  <th>[0.025</th>    <th>0.975]</th>  \n</tr>\n<tr>\n  <th>Intercept</th>  <td> 3.629e+04</td> <td> 1129.913</td> <td>   32.118</td> <td> 0.000</td> <td>  3.4e+04</td> <td> 3.85e+04</td>\n</tr>\n<tr>\n  <th>m_to_metro</th> <td> -227.5770</td> <td>   93.619</td> <td>   -2.431</td> <td> 0.017</td> <td> -413.626</td> <td>  -41.528</td>\n</tr>\n</table>\n<table class=\"simpletable\">\n<tr>\n  <th>Omnibus:</th>       <td>12.634</td> <th>  Durbin-Watson:     </th> <td>   0.942</td>\n</tr>\n<tr>\n  <th>Prob(Omnibus):</th> <td> 0.002</td> <th>  Jarque-Bera (JB):  </th> <td>  13.398</td>\n</tr>\n<tr>\n  <th>Skew:</th>          <td> 0.839</td> <th>  Prob(JB):          </th> <td> 0.00123</td>\n</tr>\n<tr>\n  <th>Kurtosis:</th>      <td> 3.869</td> <th>  Cond. No.          </th> <td>    25.0</td>\n</tr>\n</table><br/><br/>Notes:<br/>[1] Standard Errors assume that the covariance matrix of the errors is correctly specified."
     },
     "execution_count": 231,
     "metadata": {},
     "output_type": "execute_result"
    }
   ],
   "source": [
    "only_cosmetic_reg = sm.ols(formula=\"rent ~ m_to_metro\", data=new_df).fit()\n",
    "only_cosmetic_reg.summary()"
   ],
   "metadata": {
    "collapsed": false,
    "pycharm": {
     "name": "#%%\n"
    }
   }
  },
  {
   "cell_type": "code",
   "execution_count": 232,
   "outputs": [],
   "source": [
    "new_df = new_df.append(dict(m_to_metro=15), ignore_index=True)\n",
    "new_df['pred_rent'] = only_cosmetic_reg.predict(new_df)"
   ],
   "metadata": {
    "collapsed": false,
    "pycharm": {
     "name": "#%%\n"
    }
   }
  },
  {
   "cell_type": "code",
   "execution_count": 233,
   "outputs": [],
   "source": [
    "subject = new_df.iloc[90]['pred_rent']"
   ],
   "metadata": {
    "collapsed": false,
    "pycharm": {
     "name": "#%%\n"
    }
   }
  },
  {
   "cell_type": "code",
   "execution_count": 234,
   "outputs": [],
   "source": [
    "new_df['proximity_adjustment'] = 1 - subject / new_df['pred_rent']"
   ],
   "metadata": {
    "collapsed": false,
    "pycharm": {
     "name": "#%%\n"
    }
   }
  },
  {
   "cell_type": "code",
   "execution_count": 235,
   "outputs": [],
   "source": [
    "new_df.to_excel('../../data/prox_adjustment.xlsx')"
   ],
   "metadata": {
    "collapsed": false,
    "pycharm": {
     "name": "#%%\n"
    }
   }
  }
 ],
 "metadata": {
  "kernelspec": {
   "display_name": "Python 3",
   "language": "python",
   "name": "python3"
  },
  "language_info": {
   "codemirror_mode": {
    "name": "ipython",
    "version": 2
   },
   "file_extension": ".py",
   "mimetype": "text/x-python",
   "name": "python",
   "nbconvert_exporter": "python",
   "pygments_lexer": "ipython2",
   "version": "2.7.6"
  }
 },
 "nbformat": 4,
 "nbformat_minor": 0
}